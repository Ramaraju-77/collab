{
  "nbformat": 4,
  "nbformat_minor": 0,
  "metadata": {
    "colab": {
      "provenance": [],
      "authorship_tag": "ABX9TyNXBhpNg/YSZt2TTxv+5MlG",
      "include_colab_link": true
    },
    "kernelspec": {
      "name": "python3",
      "display_name": "Python 3"
    },
    "language_info": {
      "name": "python"
    }
  },
  "cells": [
    {
      "cell_type": "markdown",
      "metadata": {
        "id": "view-in-github",
        "colab_type": "text"
      },
      "source": [
        "<a href=\"https://colab.research.google.com/github/Ramaraju-77/collab/blob/main/assignment1.ipynb\" target=\"_parent\"><img src=\"https://colab.research.google.com/assets/colab-badge.svg\" alt=\"Open In Colab\"/></a>"
      ]
    },
    {
      "cell_type": "markdown",
      "source": [
        "Perform arithmetic operations on NumPy arrays.\n"
      ],
      "metadata": {
        "id": "UszcmpOOlvyA"
      }
    },
    {
      "cell_type": "code",
      "source": [
        "import numpy as np\n",
        "a=np.array([1,2,3])\n",
        "b=np.array([4,5,6])\n",
        "print(\"addition of array:\",a+b)\n",
        "print(\"subtraction of array:\",a-b)\n",
        "print(\"multiplication of array:\",a*b)\n",
        "print(\"division of array:\",a/b)"
      ],
      "metadata": {
        "colab": {
          "base_uri": "https://localhost:8080/"
        },
        "id": "Zzpwievflzxx",
        "outputId": "0b0193da-e9bc-4e11-d026-25005aa7ccc1"
      },
      "execution_count": 1,
      "outputs": [
        {
          "output_type": "stream",
          "name": "stdout",
          "text": [
            "addition of array: [5 7 9]\n",
            "subtraction of array: [-3 -3 -3]\n",
            "multiplication of array: [ 4 10 18]\n",
            "division of array: [0.25 0.4  0.5 ]\n"
          ]
        }
      ]
    },
    {
      "cell_type": "markdown",
      "source": [
        " Write a script to compute the mean and standard deviation of a NumPy array.\n"
      ],
      "metadata": {
        "id": "gCD5pNSWoAIm"
      }
    },
    {
      "cell_type": "code",
      "source": [
        "a=np.array([1,2,3,4,5])\n",
        "print(\"mean of array: \",np.mean(a))\n",
        "print(\"standard deviation of array: \",np.std(a))"
      ],
      "metadata": {
        "colab": {
          "base_uri": "https://localhost:8080/"
        },
        "id": "XtL4xf3YoQ0f",
        "outputId": "de7aff72-4701-4644-88dd-f245ec7119f7"
      },
      "execution_count": 6,
      "outputs": [
        {
          "output_type": "stream",
          "name": "stdout",
          "text": [
            "mean of array:  3.0\n",
            "standard deviation of array:  1.4142135623730951\n"
          ]
        }
      ]
    },
    {
      "cell_type": "markdown",
      "source": [
        "Create a NumPy array of integers from 10 to 50 with a step size of 5.\n"
      ],
      "metadata": {
        "id": "1nFqLxXPo2Mq"
      }
    },
    {
      "cell_type": "code",
      "source": [
        "a=np.arange(10,50,5)\n",
        "print(a)"
      ],
      "metadata": {
        "colab": {
          "base_uri": "https://localhost:8080/"
        },
        "id": "cKNcc3E9o6TI",
        "outputId": "13be03e8-18fd-411a-e874-c5b48f6842d6"
      },
      "execution_count": 4,
      "outputs": [
        {
          "output_type": "stream",
          "name": "stdout",
          "text": [
            "[10 15 20 25 30 35 40 45]\n"
          ]
        }
      ]
    },
    {
      "cell_type": "markdown",
      "source": [
        " Reshape the array into a 2x4 matrix.\n"
      ],
      "metadata": {
        "id": "8E6Md-uRpMCs"
      }
    },
    {
      "cell_type": "code",
      "source": [
        "matrix=a.reshape(2,4)\n",
        "print(matrix)"
      ],
      "metadata": {
        "colab": {
          "base_uri": "https://localhost:8080/"
        },
        "id": "Gk1J_cZbpShc",
        "outputId": "f8e949fd-4089-470f-b99a-96ce0c1f6996"
      },
      "execution_count": 5,
      "outputs": [
        {
          "output_type": "stream",
          "name": "stdout",
          "text": [
            "[[10 15 20 25]\n",
            " [30 35 40 45]]\n"
          ]
        }
      ]
    },
    {
      "cell_type": "markdown",
      "source": [],
      "metadata": {
        "id": "grcbMdCGkYXr"
      }
    },
    {
      "cell_type": "markdown",
      "source": [
        "Given the array arr = np.array([[1, 2, 3], [4, 5, 6], [7, 8, 9]]):\n",
        "• Extract the sub-matrix containing the last two rows and first two columns.\n",
        "• Replace all elements greater than 4 with 0."
      ],
      "metadata": {
        "id": "Mw_n-YPupkMV"
      }
    },
    {
      "cell_type": "code",
      "source": [
        "a=np.array([[1,2,3],[4,5,6],[7,8,9]])\n",
        "sub_matrix=a[1:,:2]\n",
        "print(sub_matrix)\n",
        "a[a>4]=0\n",
        "print(a)"
      ],
      "metadata": {
        "colab": {
          "base_uri": "https://localhost:8080/"
        },
        "id": "r750wH1IpoYr",
        "outputId": "68eae163-7a38-48a5-d5ed-f3efa156b822"
      },
      "execution_count": 8,
      "outputs": [
        {
          "output_type": "stream",
          "name": "stdout",
          "text": [
            "[[4 5]\n",
            " [7 8]]\n",
            "[[1 2 3]\n",
            " [4 0 0]\n",
            " [0 0 0]]\n"
          ]
        }
      ]
    },
    {
      "cell_type": "markdown",
      "source": [
        "Create two 1D arrays:\n",
        "• a = np.array([1, 2, 3])\n",
        "• b = np.array([4, 5, 6])\n",
        "• Perform element-wise addition, multiplication, and division"
      ],
      "metadata": {
        "id": "Mvm1ZhErsBRq"
      }
    },
    {
      "cell_type": "code",
      "source": [
        "a=np.array([1,2,3])\n",
        "b=np.array([4,5,6])\n",
        "print(\"addition of array:\",a+b)\n",
        "print(\"multiplication of array:\",a*b)\n",
        "print(\"division of array:\",a/b)"
      ],
      "metadata": {
        "colab": {
          "base_uri": "https://localhost:8080/"
        },
        "id": "2lJlibH4sFm6",
        "outputId": "3a289209-5e57-40b3-83fd-92d030658316"
      },
      "execution_count": 9,
      "outputs": [
        {
          "output_type": "stream",
          "name": "stdout",
          "text": [
            "addition of array: [5 7 9]\n",
            "multiplication of array: [ 4 10 18]\n",
            "division of array: [0.25 0.4  0.5 ]\n"
          ]
        }
      ]
    },
    {
      "cell_type": "markdown",
      "source": [
        "Create a random NumPy array of size (4, 4). Compute:\n",
        "• Mean of each column.\n",
        "• Maximum value of the entire array.\n",
        "• Sum of all elements.\n"
      ],
      "metadata": {
        "id": "7uQ3RFNYsdJc"
      }
    },
    {
      "cell_type": "code",
      "source": [
        "a=np.random.rand(4,4)\n",
        "print(\"mean of each column: \",np.mean(a,axis=0))\n",
        "print(\"maximum value of the entire array: \",np.max(a))"
      ],
      "metadata": {
        "colab": {
          "base_uri": "https://localhost:8080/"
        },
        "id": "Vzl2RmuDsg29",
        "outputId": "6bc292ad-3ce6-49b9-e827-1e38f3e8462b"
      },
      "execution_count": 11,
      "outputs": [
        {
          "output_type": "stream",
          "name": "stdout",
          "text": [
            "mean of each column:  [0.6328537  0.64817439 0.59440679 0.57183827]\n",
            "maximum value of the entire array:  0.9926159785551041\n"
          ]
        }
      ]
    },
    {
      "cell_type": "markdown",
      "source": [
        "Given the array arr = np.array([1, 2, 3, 4]), add 10 to each element and multiply\n",
        "the result by 2"
      ],
      "metadata": {
        "id": "EcQgaOj1tEqb"
      }
    },
    {
      "cell_type": "code",
      "source": [
        "a= np.array([1, 2, 3, 4])\n",
        "result = (a+ 10) * 2\n",
        "print(result)"
      ],
      "metadata": {
        "colab": {
          "base_uri": "https://localhost:8080/"
        },
        "id": "UVF0U3OKtI0u",
        "outputId": "02633c9c-4656-4353-ebc8-7c6c362fc46b"
      },
      "execution_count": 12,
      "outputs": [
        {
          "output_type": "stream",
          "name": "stdout",
          "text": [
            "[22 24 26 28]\n"
          ]
        }
      ]
    },
    {
      "cell_type": "markdown",
      "source": [
        "Perform advanced slicing and indexing on a 3D array.\n",
        "Create a 3D NumPy array arr of shape (3, 4, 5) with random integers ranging from\n",
        "1 to 100. Perform the following:\n",
        "• Extract the second \"layer\" (i.e., the second 2D array) in the first dimension.\n",
        "• Extract the first two rows and the last three columns from each \"layer.\"\n",
        "• Replace all elements divisible by 3 with -1."
      ],
      "metadata": {
        "id": "L45eTSYKtbuG"
      }
    },
    {
      "cell_type": "code",
      "source": [
        "a=np.random.randint(1,101,size=(3,4,5))\n",
        "print(a)\n",
        "print(\"second layer\",a[1])\n",
        "print(\"first two rows and last three coloums\",a[:,:2,-3:])\n",
        "a[a%3==0]=-1\n",
        "print(a)\n"
      ],
      "metadata": {
        "colab": {
          "base_uri": "https://localhost:8080/"
        },
        "id": "TO3A4sgItf10",
        "outputId": "3e384097-be78-4997-fefa-f373cf0447af"
      },
      "execution_count": 17,
      "outputs": [
        {
          "output_type": "stream",
          "name": "stdout",
          "text": [
            "[[[96 15 19 98 56]\n",
            "  [13 81  7 60 23]\n",
            "  [33 99 46 55 67]\n",
            "  [86 90 98 47 89]]\n",
            "\n",
            " [[38 69 16 38 89]\n",
            "  [99 88 46 27 57]\n",
            "  [46 19 49 55 73]\n",
            "  [90 43 84 96 29]]\n",
            "\n",
            " [[71 14 32 26 79]\n",
            "  [70 83 22 32 51]\n",
            "  [12 43 87 91 22]\n",
            "  [32 11 89 54 11]]]\n",
            "second layer [[38 69 16 38 89]\n",
            " [99 88 46 27 57]\n",
            " [46 19 49 55 73]\n",
            " [90 43 84 96 29]]\n",
            "first two rows and last three coloums [[[19 98 56]\n",
            "  [ 7 60 23]]\n",
            "\n",
            " [[16 38 89]\n",
            "  [46 27 57]]\n",
            "\n",
            " [[32 26 79]\n",
            "  [22 32 51]]]\n",
            "[[[-1 -1 19 98 56]\n",
            "  [13 -1  7 -1 23]\n",
            "  [-1 -1 46 55 67]\n",
            "  [86 -1 98 47 89]]\n",
            "\n",
            " [[38 -1 16 38 89]\n",
            "  [-1 88 46 -1 -1]\n",
            "  [46 19 49 55 73]\n",
            "  [-1 43 -1 -1 29]]\n",
            "\n",
            " [[71 14 32 26 79]\n",
            "  [70 83 22 32 -1]\n",
            "  [-1 43 -1 91 22]\n",
            "  [32 11 89 -1 11]]]\n"
          ]
        }
      ]
    },
    {
      "cell_type": "markdown",
      "source": [
        "Work with broadcasting and advanced operations in NumPy.\n",
        " Create a NumPy array arr of shape (3, 3) with random integers between\n",
        " 1 and 20. Perform the following:\n",
        "• Subtract the mean of each row from its respective elements (row-wise\n",
        "normalization).\n",
        "• Create a new array by squaring all the elements in arr.\n",
        "• Find the indices of the top 3 maximum values in the entire array."
      ],
      "metadata": {
        "id": "DYi5i3sMvm_g"
      }
    },
    {
      "cell_type": "code",
      "source": [
        "a=np.random.randint(1,21,size=(3,3))\n",
        "print(a)\n",
        "print(\"row-wise normalisation:\",a-a.mean(axis=1,keepdims=True))\n",
        "print(\"new array:\",np.square(a))\n",
        "print(\"top 3 maximum values:\",np.argsort(a.flatten())[-3:])\n",
        "\n"
      ],
      "metadata": {
        "colab": {
          "base_uri": "https://localhost:8080/"
        },
        "id": "YlKFYQNQvuo6",
        "outputId": "fcac4056-8fb3-4e51-aacd-7ec53b4f0071"
      },
      "execution_count": 22,
      "outputs": [
        {
          "output_type": "stream",
          "name": "stdout",
          "text": [
            "[[17 11  4]\n",
            " [16 13 18]\n",
            " [11  1 14]]\n",
            "row-wise normalisation: [[ 6.33333333  0.33333333 -6.66666667]\n",
            " [ 0.33333333 -2.66666667  2.33333333]\n",
            " [ 2.33333333 -7.66666667  5.33333333]]\n",
            "new array: [[289 121  16]\n",
            " [256 169 324]\n",
            " [121   1 196]]\n",
            "top 3 maximum values: [3 0 5]\n"
          ]
        }
      ]
    }
  ]
}